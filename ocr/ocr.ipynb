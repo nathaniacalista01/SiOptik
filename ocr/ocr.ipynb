{
 "cells": [
  {
   "cell_type": "code",
   "execution_count": 1,
   "metadata": {},
   "outputs": [],
   "source": [
    "# Import from Python File\n",
    "\n",
    "from img_io import *\n",
    "import numpy as np\n",
    "import os\n",
    "import cv2\n"
   ]
  },
  {
   "cell_type": "code",
   "execution_count": 2,
   "metadata": {},
   "outputs": [],
   "source": [
    "# Get Images and Border Pattern\n",
    "images_path = get_list_image()\n",
    "\n",
    "border_path = os.path.join(DATA_PATH, 'border.png')\n",
    "border = read_image(border_path)\n",
    "border = resize_image(border, 0.1)\n",
    "display_image(border)\n"
   ]
  },
  {
   "cell_type": "code",
   "execution_count": 4,
   "metadata": {},
   "outputs": [],
   "source": [
    "# Detecting Border\n",
    "\n",
    "img = images_path[0]\n",
    "img = read_image(img)\n",
    "\n",
    "# Displaying Original Image\n",
    "display_image(img, 0.3)\n",
    "\n",
    "assert border is not None, \"Border not detected\"\n",
    "# w, h = border.shape[::-1]\n",
    "w, h = border.shape[:2]\n",
    "res = cv2.matchTemplate(img, border, cv2.TM_CCOEFF_NORMED)\n",
    "threshold = 0.8\n",
    "loc = np.where( res >= threshold)\n",
    "for pt in zip(*loc[::-1]):\n",
    "  cv2.rectangle(img, pt, (pt[0] + w, pt[1] + h), (0,0,255), 2)\n",
    "# cv.imwrite('res.png',img_rgb)\n",
    "  \n",
    "# Displaying Annotated Image\n",
    "display_image(img, 0.3)"
   ]
  }
 ],
 "metadata": {
  "kernelspec": {
   "display_name": "Python 3",
   "language": "python",
   "name": "python3"
  },
  "language_info": {
   "codemirror_mode": {
    "name": "ipython",
    "version": 3
   },
   "file_extension": ".py",
   "mimetype": "text/x-python",
   "name": "python",
   "nbconvert_exporter": "python",
   "pygments_lexer": "ipython3",
   "version": "3.11.3"
  }
 },
 "nbformat": 4,
 "nbformat_minor": 2
}
